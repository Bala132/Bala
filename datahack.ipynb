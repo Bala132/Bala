{
  "cells": [
    {
      "cell_type": "code",
      "execution_count": null,
      "metadata": {
        "colab": {
          "base_uri": "https://localhost:8080/"
        },
        "id": "yHCHw2-_aoep",
        "outputId": "3ab629e5-2b28-41de-8245-a182dd4f19e3"
      },
      "outputs": [
        {
          "output_type": "execute_result",
          "data": {
            "text/plain": [
              "respondent_id                      0\n",
              "xyz_concern                       92\n",
              "xyz_knowledge                    116\n",
              "behavioral_antiviral_meds         71\n",
              "behavioral_avoidance             208\n",
              "behavioral_face_mask              19\n",
              "behavioral_wash_hands             42\n",
              "behavioral_large_gatherings       87\n",
              "behavioral_outside_home           82\n",
              "behavioral_touch_face            128\n",
              "doctor_recc_xyz                 2160\n",
              "doctor_recc_seasonal            2160\n",
              "chronic_med_condition            971\n",
              "child_under_6_months             820\n",
              "health_worker                    804\n",
              "health_insurance               12274\n",
              "opinion_xyz_vacc_effective       391\n",
              "opinion_xyz_risk                 388\n",
              "opinion_xyz_sick_from_vacc       395\n",
              "opinion_seas_vacc_effective      462\n",
              "opinion_seas_risk                514\n",
              "opinion_seas_sick_from_vacc      537\n",
              "age_group                          0\n",
              "education                       1407\n",
              "race                               0\n",
              "sex                                0\n",
              "income_poverty                  4423\n",
              "marital_status                  1408\n",
              "rent_or_own                     2042\n",
              "employment_status               1463\n",
              "hhs_geo_region                     0\n",
              "census_msa                         0\n",
              "household_adults                 249\n",
              "household_children               249\n",
              "employment_industry            13330\n",
              "employment_occupation          13470\n",
              "dtype: int64"
            ]
          },
          "metadata": {},
          "execution_count": 16
        }
      ],
      "source": [
        "import pandas as pd\n",
        "df = pd.read_csv('training_set_features.csv')\n",
        "df4=pd.read_csv('training_set_labels.csv')\n",
        "df.isnull().sum()"
      ]
    },
    {
      "cell_type": "code",
      "execution_count": null,
      "metadata": {
        "id": "eWJ6NT9Vb8p1"
      },
      "outputs": [],
      "source": [
        "df2=df.drop(columns=['employment_occupation', 'employment_industry','census_msa','employment_status','rent_or_own','hhs_geo_region','income_poverty','education','age_group','health_insurance'])"
      ]
    },
    {
      "cell_type": "code",
      "execution_count": null,
      "metadata": {
        "colab": {
          "base_uri": "https://localhost:8080/"
        },
        "id": "jLOlK5nwb82s",
        "outputId": "6681e7e3-64d8-4342-9ee3-5a29fb016dcb"
      },
      "outputs": [
        {
          "output_type": "execute_result",
          "data": {
            "text/plain": [
              "(26707, 31)"
            ]
          },
          "metadata": {},
          "execution_count": 18
        }
      ],
      "source": [
        "df3=pd.get_dummies(df2, columns = ['race', 'sex','marital_status'],dtype=int)\n",
        "df3.shape\n"
      ]
    },
    {
      "cell_type": "code",
      "execution_count": null,
      "metadata": {
        "colab": {
          "base_uri": "https://localhost:8080/"
        },
        "id": "0J-XLM06b9hF",
        "outputId": "5f505acd-3e23-4b61-80b4-fdf1a5561153"
      },
      "outputs": [
        {
          "output_type": "execute_result",
          "data": {
            "text/plain": [
              "respondent_id                     0\n",
              "xyz_concern                      92\n",
              "xyz_knowledge                   116\n",
              "behavioral_antiviral_meds        71\n",
              "behavioral_avoidance            208\n",
              "behavioral_face_mask             19\n",
              "behavioral_wash_hands            42\n",
              "behavioral_large_gatherings      87\n",
              "behavioral_outside_home          82\n",
              "behavioral_touch_face           128\n",
              "doctor_recc_xyz                2160\n",
              "doctor_recc_seasonal           2160\n",
              "chronic_med_condition           971\n",
              "child_under_6_months            820\n",
              "health_worker                   804\n",
              "opinion_xyz_vacc_effective      391\n",
              "opinion_xyz_risk                388\n",
              "opinion_xyz_sick_from_vacc      395\n",
              "opinion_seas_vacc_effective     462\n",
              "opinion_seas_risk               514\n",
              "opinion_seas_sick_from_vacc     537\n",
              "race                              0\n",
              "sex                               0\n",
              "marital_status                 1408\n",
              "household_adults                249\n",
              "household_children              249\n",
              "dtype: int64"
            ]
          },
          "metadata": {},
          "execution_count": 19
        }
      ],
      "source": [
        "df2.isnull().sum()"
      ]
    },
    {
      "cell_type": "code",
      "execution_count": null,
      "metadata": {
        "colab": {
          "base_uri": "https://localhost:8080/"
        },
        "id": "Ar8u2TmMb9si",
        "outputId": "6828529a-033e-467f-c5e8-56dd7a56ee5d"
      },
      "outputs": [
        {
          "output_type": "execute_result",
          "data": {
            "text/plain": [
              "respondent_id                  0\n",
              "xyz_concern                    0\n",
              "xyz_knowledge                  0\n",
              "behavioral_antiviral_meds      0\n",
              "behavioral_avoidance           0\n",
              "behavioral_face_mask           0\n",
              "behavioral_wash_hands          0\n",
              "behavioral_large_gatherings    0\n",
              "behavioral_outside_home        0\n",
              "behavioral_touch_face          0\n",
              "doctor_recc_xyz                0\n",
              "doctor_recc_seasonal           0\n",
              "chronic_med_condition          0\n",
              "child_under_6_months           0\n",
              "health_worker                  0\n",
              "opinion_xyz_vacc_effective     0\n",
              "opinion_xyz_risk               0\n",
              "opinion_xyz_sick_from_vacc     0\n",
              "opinion_seas_vacc_effective    0\n",
              "opinion_seas_risk              0\n",
              "opinion_seas_sick_from_vacc    0\n",
              "household_adults               0\n",
              "household_children             0\n",
              "race_Black                     0\n",
              "race_Hispanic                  0\n",
              "race_Other or Multiple         0\n",
              "race_White                     0\n",
              "sex_Female                     0\n",
              "sex_Male                       0\n",
              "marital_status_Married         0\n",
              "marital_status_Not Married     0\n",
              "dtype: int64"
            ]
          },
          "metadata": {},
          "execution_count": 20
        }
      ],
      "source": [
        "df3['xyz_concern']=df3['xyz_concern'].fillna(df3['xyz_concern'].mode()[0])\n",
        "df3['xyz_knowledge']=df3['xyz_knowledge'].fillna(df3['xyz_knowledge'].mode()[0])\n",
        "df3['opinion_xyz_vacc_effective']=df3['opinion_xyz_vacc_effective'].fillna(df3['opinion_xyz_vacc_effective'].mode()[0])\n",
        "df3['opinion_xyz_risk']=df3['opinion_xyz_risk'].fillna(df3['opinion_xyz_risk'].mode()[0])\n",
        "df3['opinion_xyz_sick_from_vacc']=df3['opinion_xyz_sick_from_vacc'].fillna(df3['opinion_xyz_sick_from_vacc'].mode()[0])\n",
        "df3['opinion_seas_vacc_effective']=df3['opinion_seas_vacc_effective'].fillna(df3['opinion_seas_vacc_effective'].mode()[0])\n",
        "df3['opinion_seas_risk']=df3['opinion_seas_risk'].fillna(df3['opinion_seas_risk'].mode()[0])\n",
        "df3['opinion_seas_sick_from_vacc']=df3['opinion_seas_sick_from_vacc'].fillna(df3['opinion_seas_sick_from_vacc'].mode()[0])\n",
        "df3['behavioral_antiviral_meds']=df3['behavioral_antiviral_meds'].fillna(df3['behavioral_antiviral_meds'].mode()[0])\n",
        "df3['behavioral_avoidance']=df3['behavioral_avoidance'].fillna(df3['behavioral_avoidance'].mode()[0])\n",
        "df3['behavioral_face_mask']=df3['behavioral_face_mask'].fillna(df3['behavioral_face_mask'].mode()[0])\n",
        "df3['behavioral_wash_hands']=df3['behavioral_wash_hands'].fillna(df3['behavioral_wash_hands'].mode()[0])\n",
        "df3['behavioral_large_gatherings']=df3['behavioral_large_gatherings'].fillna(df3['behavioral_large_gatherings'].mode()[0])\n",
        "df3['behavioral_outside_home']=df3['behavioral_outside_home'].fillna(df3['behavioral_outside_home'].mode()[0])\n",
        "df3['behavioral_touch_face']=df3['behavioral_touch_face'].fillna(df3['behavioral_touch_face'].mode()[0])\n",
        "df3['doctor_recc_xyz']=df3['doctor_recc_xyz'].fillna(df3['doctor_recc_xyz'].mode()[0])\n",
        "df3['doctor_recc_seasonal']=df3['doctor_recc_seasonal'].fillna(df3['doctor_recc_seasonal'].mode()[0])\n",
        "df3['chronic_med_condition']=df3['chronic_med_condition'].fillna(df3['chronic_med_condition'].mode()[0])\n",
        "df3['child_under_6_months']=df3['child_under_6_months'].fillna(df3['child_under_6_months'].mode()[0])\n",
        "df3['health_worker']=df3['health_worker'].fillna(df3['health_worker'].mode()[0])\n",
        "df3['household_adults']=df3['household_adults'].fillna(df3['household_adults'].mode()[0])\n",
        "df3['household_children']=df3['household_children'].fillna(df3['household_children'].mode()[0])\n",
        "df3.isnull().sum()"
      ]
    },
    {
      "cell_type": "code",
      "execution_count": null,
      "metadata": {
        "colab": {
          "base_uri": "https://localhost:8080/"
        },
        "id": "6UuvveuYb9yU",
        "outputId": "cff6ea86-a19e-4aa4-99f5-de14d987aa14"
      },
      "outputs": [
        {
          "output_type": "execute_result",
          "data": {
            "text/plain": [
              "(26707, 31)"
            ]
          },
          "metadata": {},
          "execution_count": 21
        }
      ],
      "source": [
        "df3.shape\n"
      ]
    },
    {
      "cell_type": "code",
      "execution_count": null,
      "metadata": {
        "colab": {
          "base_uri": "https://localhost:8080/"
        },
        "id": "gUJGoD80ZSe7",
        "outputId": "b1a3b29c-2f0a-4d6e-f074-0ee6a4a745f2"
      },
      "outputs": [
        {
          "output_type": "stream",
          "name": "stderr",
          "text": [
            "/usr/local/lib/python3.10/dist-packages/sklearn/utils/validation.py:1143: DataConversionWarning: A column-vector y was passed when a 1d array was expected. Please change the shape of y to (n_samples, ), for example using ravel().\n",
            "  y = column_or_1d(y, warn=True)\n"
          ]
        },
        {
          "output_type": "stream",
          "name": "stdout",
          "text": [
            "Train AUC: 0.5132519119317566\n",
            "Test AUC: 0.5288913125371155\n"
          ]
        }
      ],
      "source": [
        "from sklearn.model_selection import train_test_split\n",
        "from sklearn import svm\n",
        "from sklearn import metrics\n",
        "from sklearn.impute import SimpleImputer\n",
        "X = df3\n",
        "y = df4[['xyz_vaccine']]\n",
        "imputer = SimpleImputer(strategy='most_frequent')\n",
        "X = imputer.fit_transform(X)\n",
        "\n",
        "X_train, X_test, y_train, y_test = train_test_split(X, y, test_size=0.2)\n",
        "\n",
        "clf = svm.SVC(probability=True)\n",
        "clf.fit(X_train, y_train)\n",
        "\n",
        "\n",
        "y_train_pred_proba = clf.predict_proba(X_train)[:, 1]\n",
        "y_test_pred_proba = clf.predict_proba(X_test)[:, 1]\n",
        "\n",
        "\n",
        "auc_train = metrics.roc_auc_score(y_train, y_train_pred_proba)\n",
        "auc_test = metrics.roc_auc_score(y_test, y_test_pred_proba)\n",
        "\n",
        "print(\"Train AUC:\", auc_train)\n",
        "print(\"Test AUC:\", auc_test)\n",
        "\n"
      ]
    },
    {
      "cell_type": "code",
      "execution_count": null,
      "metadata": {
        "colab": {
          "base_uri": "https://localhost:8080/"
        },
        "id": "s6P6p13yZSgj",
        "outputId": "b9cdcd68-4e04-4613-f2c8-64e405e81429"
      },
      "outputs": [
        {
          "output_type": "stream",
          "name": "stderr",
          "text": [
            "/usr/local/lib/python3.10/dist-packages/sklearn/utils/validation.py:1143: DataConversionWarning: A column-vector y was passed when a 1d array was expected. Please change the shape of y to (n_samples, ), for example using ravel().\n",
            "  y = column_or_1d(y, warn=True)\n"
          ]
        },
        {
          "output_type": "stream",
          "name": "stdout",
          "text": [
            "Train AUC: 0.6226147020732664\n",
            "Test AUC: 0.6246289161815659\n"
          ]
        }
      ],
      "source": [
        "from sklearn.model_selection import train_test_split\n",
        "from sklearn import svm\n",
        "from sklearn import metrics\n",
        "from sklearn.impute import SimpleImputer\n",
        "X = df3\n",
        "y = df4[['seasonal_vaccine']]\n",
        "imputer = SimpleImputer(strategy='most_frequent')\n",
        "X = imputer.fit_transform(X)\n",
        "\n",
        "X_train, X_test, y_train, y_test = train_test_split(X, y, test_size=0.2)\n",
        "\n",
        "clf = svm.SVC(probability=True)\n",
        "clf.fit(X_train, y_train)\n",
        "\n",
        "\n",
        "y_train_pred_proba = clf.predict_proba(X_train)[:, 1]\n",
        "y_test_pred_proba = clf.predict_proba(X_test)[:, 1]\n",
        "\n",
        "\n",
        "auc_train = metrics.roc_auc_score(y_train, y_train_pred_proba)\n",
        "auc_test = metrics.roc_auc_score(y_test, y_test_pred_proba)\n",
        "\n",
        "print(\"Train AUC:\", auc_train)\n",
        "print(\"Test AUC:\", auc_test)"
      ]
    },
    {
      "cell_type": "code",
      "execution_count": null,
      "metadata": {
        "id": "hyMxc5lbZSjy",
        "colab": {
          "base_uri": "https://localhost:8080/"
        },
        "outputId": "7f299c74-dc46-40ca-fe4d-a23996987229"
      },
      "outputs": [
        {
          "output_type": "stream",
          "name": "stdout",
          "text": [
            "Train AUC: 0.8262272555258868\n",
            "Test AUC: 0.8383648763668042\n"
          ]
        },
        {
          "output_type": "stream",
          "name": "stderr",
          "text": [
            "/usr/local/lib/python3.10/dist-packages/sklearn/utils/validation.py:1143: DataConversionWarning: A column-vector y was passed when a 1d array was expected. Please change the shape of y to (n_samples, ), for example using ravel().\n",
            "  y = column_or_1d(y, warn=True)\n"
          ]
        }
      ],
      "source": [
        "from sklearn.model_selection import train_test_split\n",
        "from sklearn import svm\n",
        "from sklearn.linear_model import LogisticRegression\n",
        "from sklearn import metrics\n",
        "from sklearn.impute import SimpleImputer\n",
        "from sklearn.preprocessing import StandardScaler\n",
        "X = df3\n",
        "y = df4[['xyz_vaccine']]\n",
        "imputer = SimpleImputer(strategy='most_frequent')\n",
        "X = imputer.fit_transform(X)\n",
        "\n",
        "scaler = StandardScaler()\n",
        "X = scaler.fit_transform(X)\n",
        "X_train, X_test, y_train, y_test = train_test_split(X, y, test_size=0.2)\n",
        "\n",
        "clfx = LogisticRegression()\n",
        "clfx.fit(X_train, y_train)\n",
        "\n",
        "\n",
        "y_train_pred_proba = clfx.predict_proba(X_train)[:, 1]\n",
        "y_test_pred_proba = clfx.predict_proba(X_test)[:, 1]\n",
        "\n",
        "auc_train = metrics.roc_auc_score(y_train, y_train_pred_proba)\n",
        "auc_test = metrics.roc_auc_score(y_test, y_test_pred_proba)\n",
        "\n",
        "print(\"Train AUC:\", auc_train)\n",
        "print(\"Test AUC:\", auc_test)"
      ]
    },
    {
      "cell_type": "code",
      "execution_count": null,
      "metadata": {
        "id": "yKKdthKoZSlO",
        "colab": {
          "base_uri": "https://localhost:8080/"
        },
        "outputId": "d9128f89-2bd5-4a8a-f20a-23d0b034ff4f"
      },
      "outputs": [
        {
          "output_type": "stream",
          "name": "stdout",
          "text": [
            "Train AUC: 0.8345105265692484\n",
            "Test AUC: 0.8304315606291476\n"
          ]
        },
        {
          "output_type": "stream",
          "name": "stderr",
          "text": [
            "/usr/local/lib/python3.10/dist-packages/sklearn/utils/validation.py:1143: DataConversionWarning: A column-vector y was passed when a 1d array was expected. Please change the shape of y to (n_samples, ), for example using ravel().\n",
            "  y = column_or_1d(y, warn=True)\n"
          ]
        }
      ],
      "source": [
        "from sklearn.model_selection import train_test_split\n",
        "from sklearn import svm\n",
        "from sklearn.linear_model import LogisticRegression\n",
        "from sklearn import metrics\n",
        "from sklearn.impute import SimpleImputer\n",
        "from sklearn.preprocessing import StandardScaler\n",
        "X = df3\n",
        "y = df4[['seasonal_vaccine']]\n",
        "imputer = SimpleImputer(strategy='most_frequent')\n",
        "X = imputer.fit_transform(X)\n",
        "\n",
        "scaler = StandardScaler()\n",
        "X = scaler.fit_transform(X)\n",
        "X_train, X_test, y_train, y_test = train_test_split(X, y, test_size=0.2)\n",
        "\n",
        "clfs = LogisticRegression()\n",
        "clfs.fit(X_train, y_train)\n",
        "\n",
        "\n",
        "y_train_pred_proba = clfs.predict_proba(X_train)[:, 1]\n",
        "y_test_pred_proba = clfs.predict_proba(X_test)[:, 1]\n",
        "\n",
        "\n",
        "auc_train = metrics.roc_auc_score(y_train, y_train_pred_proba)\n",
        "auc_test = metrics.roc_auc_score(y_test, y_test_pred_proba)\n",
        "\n",
        "print(\"Train AUC:\", auc_train)\n",
        "print(\"Test AUC:\", auc_test)"
      ]
    },
    {
      "cell_type": "code",
      "execution_count": null,
      "metadata": {
        "id": "DzfzrFxTZSpI",
        "colab": {
          "base_uri": "https://localhost:8080/"
        },
        "outputId": "f03d425e-dbb8-408f-83f5-63243082295d"
      },
      "outputs": [
        {
          "output_type": "stream",
          "name": "stdout",
          "text": [
            "Train AUC: 0.7863547847760083\n",
            "Test AUC: 0.7870715658976399\n"
          ]
        },
        {
          "output_type": "stream",
          "name": "stderr",
          "text": [
            "/usr/local/lib/python3.10/dist-packages/sklearn/utils/validation.py:1143: DataConversionWarning: A column-vector y was passed when a 1d array was expected. Please change the shape of y to (n_samples, ), for example using ravel().\n",
            "  y = column_or_1d(y, warn=True)\n"
          ]
        }
      ],
      "source": [
        "from sklearn.model_selection import train_test_split\n",
        "from sklearn import svm\n",
        "from sklearn.linear_model import LogisticRegression\n",
        "from sklearn.naive_bayes import GaussianNB\n",
        "from sklearn import metrics\n",
        "from sklearn.impute import SimpleImputer\n",
        "from sklearn.preprocessing import StandardScaler\n",
        "X = df3\n",
        "y = df4[['xyz_vaccine']]\n",
        "imputer = SimpleImputer(strategy='most_frequent')\n",
        "X = imputer.fit_transform(X)\n",
        "\n",
        "scaler = StandardScaler()\n",
        "X = scaler.fit_transform(X)\n",
        "X_train, X_test, y_train, y_test = train_test_split(X, y, test_size=0.2)\n",
        "\n",
        "clf = GaussianNB()\n",
        "clf.fit(X_train, y_train)\n",
        "\n",
        "y_train_pred_proba = clf.predict_proba(X_train)[:, 1]\n",
        "y_test_pred_proba = clf.predict_proba(X_test)[:, 1]\n",
        "\n",
        "\n",
        "auc_train = metrics.roc_auc_score(y_train, y_train_pred_proba)\n",
        "auc_test = metrics.roc_auc_score(y_test, y_test_pred_proba)\n",
        "\n",
        "print(\"Train AUC:\", auc_train)\n",
        "print(\"Test AUC:\", auc_test)"
      ]
    },
    {
      "cell_type": "code",
      "source": [
        "from sklearn.model_selection import train_test_split\n",
        "from sklearn import svm\n",
        "from sklearn.linear_model import LogisticRegression\n",
        "from sklearn.naive_bayes import GaussianNB\n",
        "from sklearn import metrics\n",
        "from sklearn.impute import SimpleImputer\n",
        "from sklearn.preprocessing import StandardScaler\n",
        "X = df3\n",
        "y = df4[['seasonal_vaccine']]\n",
        "imputer = SimpleImputer(strategy='most_frequent')\n",
        "X = imputer.fit_transform(X)\n",
        "\n",
        "scaler = StandardScaler()\n",
        "X = scaler.fit_transform(X)\n",
        "X_train, X_test, y_train, y_test = train_test_split(X, y, test_size=0.2)\n",
        "\n",
        "clf = GaussianNB()\n",
        "clf.fit(X_train, y_train)\n",
        "\n",
        "y_train_pred_proba = clf.predict_proba(X_train)[:, 1]\n",
        "y_test_pred_proba = clf.predict_proba(X_test)[:, 1]\n",
        "\n",
        "\n",
        "auc_train = metrics.roc_auc_score(y_train, y_train_pred_proba)\n",
        "auc_test = metrics.roc_auc_score(y_test, y_test_pred_proba)\n",
        "\n",
        "print(\"Train AUC:\", auc_train)\n",
        "print(\"Test AUC:\", auc_test)"
      ],
      "metadata": {
        "colab": {
          "base_uri": "https://localhost:8080/"
        },
        "id": "U8vFvCsSnAVA",
        "outputId": "1d6136a1-900c-4b0b-9a35-dbafc73b73ad"
      },
      "execution_count": null,
      "outputs": [
        {
          "output_type": "stream",
          "name": "stdout",
          "text": [
            "Train AUC: 0.7828243827823689\n",
            "Test AUC: 0.7841188017964448\n"
          ]
        },
        {
          "output_type": "stream",
          "name": "stderr",
          "text": [
            "/usr/local/lib/python3.10/dist-packages/sklearn/utils/validation.py:1143: DataConversionWarning: A column-vector y was passed when a 1d array was expected. Please change the shape of y to (n_samples, ), for example using ravel().\n",
            "  y = column_or_1d(y, warn=True)\n"
          ]
        }
      ]
    },
    {
      "cell_type": "code",
      "source": [
        "import pandas as pd\n",
        "df5 = pd.read_csv('training_set_features.csv')\n",
        "df6=df5.drop(columns=['employment_occupation', 'employment_industry','census_msa','employment_status','rent_or_own','hhs_geo_region','income_poverty','education','age_group','health_insurance'])\n",
        "df7=pd.get_dummies(df6, columns = ['race', 'sex','marital_status'],dtype=int)\n",
        "df7['xyz_concern']=df7['xyz_concern'].fillna(df7['xyz_concern'].mode()[0])\n",
        "df7['xyz_knowledge']=df7['xyz_knowledge'].fillna(df7['xyz_knowledge'].mode()[0])\n",
        "df7['opinion_xyz_vacc_effective']=df7['opinion_xyz_vacc_effective'].fillna(df7['opinion_xyz_vacc_effective'].mode()[0])\n",
        "df7['opinion_xyz_risk']=df7['opinion_xyz_risk'].fillna(df7['opinion_xyz_risk'].mode()[0])\n",
        "df7['opinion_xyz_sick_from_vacc']=df7['opinion_xyz_sick_from_vacc'].fillna(df7['opinion_xyz_sick_from_vacc'].mode()[0])\n",
        "df7['opinion_seas_vacc_effective']=df7['opinion_seas_vacc_effective'].fillna(df7['opinion_seas_vacc_effective'].mode()[0])\n",
        "df7['opinion_seas_risk']=df7['opinion_seas_risk'].fillna(df7['opinion_seas_risk'].mode()[0])\n",
        "df7['opinion_seas_sick_from_vacc']=df7['opinion_seas_sick_from_vacc'].fillna(df7['opinion_seas_sick_from_vacc'].mode()[0])\n",
        "df7['behavioral_antiviral_meds']=df7['behavioral_antiviral_meds'].fillna(df7['behavioral_antiviral_meds'].mode()[0])\n",
        "df7['behavioral_avoidance']=df7['behavioral_avoidance'].fillna(df7['behavioral_avoidance'].mode()[0])\n",
        "df7['behavioral_face_mask']=df7['behavioral_face_mask'].fillna(df7['behavioral_face_mask'].mode()[0])\n",
        "df7['behavioral_wash_hands']=df7['behavioral_wash_hands'].fillna(df7['behavioral_wash_hands'].mode()[0])\n",
        "df7['behavioral_large_gatherings']=df7['behavioral_large_gatherings'].fillna(df7['behavioral_large_gatherings'].mode()[0])\n",
        "df7['behavioral_outside_home']=df7['behavioral_outside_home'].fillna(df7['behavioral_outside_home'].mode()[0])\n",
        "df7['behavioral_touch_face']=df7['behavioral_touch_face'].fillna(df7['behavioral_touch_face'].mode()[0])\n",
        "df7['doctor_recc_xyz']=df7['doctor_recc_xyz'].fillna(df7['doctor_recc_xyz'].mode()[0])\n",
        "df7['doctor_recc_seasonal']=df7['doctor_recc_seasonal'].fillna(df7['doctor_recc_seasonal'].mode()[0])\n",
        "df7['chronic_med_condition']=df7['chronic_med_condition'].fillna(df7['chronic_med_condition'].mode()[0])\n",
        "df7['child_under_6_months']=df7['child_under_6_months'].fillna(df7['child_under_6_months'].mode()[0])\n",
        "df7['health_worker']=df7['health_worker'].fillna(df7['health_worker'].mode()[0])\n",
        "df7['household_adults']=df7['household_adults'].fillna(df7['household_adults'].mode()[0])\n",
        "df7['household_children']=df7['household_children'].fillna(df7['household_children'].mode()[0])\n",
        "df7.isnull().sum()\n"
      ],
      "metadata": {
        "colab": {
          "base_uri": "https://localhost:8080/"
        },
        "id": "UhcQF1vwsKom",
        "outputId": "dde90893-c01e-44c9-d06c-1dfe7f2d568e"
      },
      "execution_count": null,
      "outputs": [
        {
          "output_type": "execute_result",
          "data": {
            "text/plain": [
              "respondent_id                  0\n",
              "xyz_concern                    0\n",
              "xyz_knowledge                  0\n",
              "behavioral_antiviral_meds      0\n",
              "behavioral_avoidance           0\n",
              "behavioral_face_mask           0\n",
              "behavioral_wash_hands          0\n",
              "behavioral_large_gatherings    0\n",
              "behavioral_outside_home        0\n",
              "behavioral_touch_face          0\n",
              "doctor_recc_xyz                0\n",
              "doctor_recc_seasonal           0\n",
              "chronic_med_condition          0\n",
              "child_under_6_months           0\n",
              "health_worker                  0\n",
              "opinion_xyz_vacc_effective     0\n",
              "opinion_xyz_risk               0\n",
              "opinion_xyz_sick_from_vacc     0\n",
              "opinion_seas_vacc_effective    0\n",
              "opinion_seas_risk              0\n",
              "opinion_seas_sick_from_vacc    0\n",
              "household_adults               0\n",
              "household_children             0\n",
              "race_Black                     0\n",
              "race_Hispanic                  0\n",
              "race_Other or Multiple         0\n",
              "race_White                     0\n",
              "sex_Female                     0\n",
              "sex_Male                       0\n",
              "marital_status_Married         0\n",
              "marital_status_Not Married     0\n",
              "dtype: int64"
            ]
          },
          "metadata": {},
          "execution_count": 24
        }
      ]
    },
    {
      "cell_type": "code",
      "source": [
        "from sklearn.model_selection import train_test_split\n",
        "from sklearn import svm\n",
        "from sklearn.linear_model import LogisticRegression\n",
        "from sklearn import metrics\n",
        "from sklearn.impute import SimpleImputer\n",
        "from sklearn.preprocessing import StandardScaler\n",
        "X1 = df7\n",
        "X1 = imputer.fit_transform(X1)\n",
        "scaler = StandardScaler()\n",
        "X1 = scaler.fit_transform(X1)\n",
        "xyz_probabilities = clfx.predict_proba(X1)[:, 1]\n",
        "seasonal_probabilities = clfs.predict_proba(X1)[:, 1]\n",
        "datahack_df = pd.DataFrame({\n",
        "    'respondent_id': df4['respondent_id'],  # Assuming df4 has respondent IDs\n",
        "    'xyz_vaccine_probability': xyz_probabilities,\n",
        "    'seasonal_vaccine_probability': seasonal_probabilities\n",
        "})\n",
        "datahack_df.to_csv('vaccine_datahack.csv', index=False)\n",
        "print(datahack_df.head())\n"
      ],
      "metadata": {
        "colab": {
          "base_uri": "https://localhost:8080/"
        },
        "id": "ARM4ASuPsLBF",
        "outputId": "e36a4dbd-093c-4f6a-cb66-befba0192d75"
      },
      "execution_count": null,
      "outputs": [
        {
          "output_type": "stream",
          "name": "stdout",
          "text": [
            "   respondent_id  xyz_vaccine_probability  seasonal_vaccine_probability\n",
            "0              0                 0.024343                      0.059697\n",
            "1              1                 0.259756                      0.222555\n",
            "2              2                 0.037585                      0.144547\n",
            "3              3                 0.066300                      0.922089\n",
            "4              4                 0.045341                      0.100838\n"
          ]
        }
      ]
    },
    {
      "cell_type": "code",
      "source": [],
      "metadata": {
        "id": "w-9arbtqsLez"
      },
      "execution_count": null,
      "outputs": []
    }
  ],
  "metadata": {
    "colab": {
      "provenance": []
    },
    "kernelspec": {
      "display_name": "Python 3",
      "name": "python3"
    },
    "language_info": {
      "name": "python"
    }
  },
  "nbformat": 4,
  "nbformat_minor": 0
}